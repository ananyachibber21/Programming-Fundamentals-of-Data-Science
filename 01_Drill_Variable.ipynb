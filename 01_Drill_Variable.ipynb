{
 "cells": [
  {
   "cell_type": "markdown",
   "id": "968dc2e7",
   "metadata": {},
   "source": [
    "# 1\n",
    "\n",
    "Python program to **calculate the number of minutes** in a week. Make variables for **DaysPerWeek, HoursPerDay, and MinutesPerHour** , and then multiply them together.\n"
   ]
  },
  {
   "cell_type": "code",
   "execution_count": 2,
   "id": "085737a9",
   "metadata": {},
   "outputs": [
    {
     "name": "stdout",
     "output_type": "stream",
     "text": [
      "Number of Minutes in a week =  10080\n"
     ]
    }
   ],
   "source": [
    "DaysPerWeek = 7\n",
    "HoursPerWeek = DaysPerWeek * 24\n",
    "MinutesPerWeek = HoursPerWeek * 60\n",
    "print(\"Number of Minutes in a week = \", MinutesPerWeek)"
   ]
  },
  {
   "cell_type": "markdown",
   "id": "b13d27c9",
   "metadata": {},
   "source": [
    "# 2\n",
    "\n",
    "People are always saying there’s not enough time to get everything done. How many\n",
    "minutes would there be in a week if there were 26 hours in a day?\n"
   ]
  },
  {
   "cell_type": "code",
   "execution_count": 3,
   "id": "90b3d266",
   "metadata": {},
   "outputs": [
    {
     "name": "stdout",
     "output_type": "stream",
     "text": [
      "Number of Minutes in a week =  10920\n"
     ]
    }
   ],
   "source": [
    "DaysPerWeek = 7\n",
    "HoursPerWeek = DaysPerWeek * 26\n",
    "MinutesPerWeek = HoursPerWeek * 60\n",
    "print(\"Number of Minutes in a week = \", MinutesPerWeek)"
   ]
  },
  {
   "cell_type": "markdown",
   "id": "a9207291",
   "metadata": {},
   "source": [
    "# 3\n",
    "\n",
    "Let's use **Pythagoras theorem** to calculate the **length of the hypotenuse** of a right-angled triangle where the other sides have lengths 3 and 4.\n"
   ]
  },
  {
   "cell_type": "code",
   "execution_count": 10,
   "id": "4d59ae00",
   "metadata": {},
   "outputs": [
    {
     "name": "stdout",
     "output_type": "stream",
     "text": [
      "Length of the hypotenuse =  5.0\n"
     ]
    }
   ],
   "source": [
    "p = 3\n",
    "b = 4\n",
    "h = (p**2 + b**2)**(1/2)\n",
    "print(\"Length of the hypotenuse = \", h)"
   ]
  },
  {
   "cell_type": "markdown",
   "id": "2f33acf2",
   "metadata": {},
   "source": [
    "# 4\n",
    "\n",
    "Write a simple Python program that displays the following **powers of 2**, one per line: $$2^1, 2^2, 2^3, 2^4, 2^5, 2^6, 2^7, 2^8$$ <br>\n"
   ]
  },
  {
   "cell_type": "code",
   "execution_count": 2,
   "id": "5bef73f6",
   "metadata": {},
   "outputs": [
    {
     "name": "stdout",
     "output_type": "stream",
     "text": [
      "2\n",
      "4\n",
      "8\n",
      "16\n",
      "32\n",
      "64\n",
      "128\n",
      "256\n"
     ]
    }
   ],
   "source": [
    "a = 2\n",
    "print(a**1)\n",
    "print(a**2)\n",
    "print(a**3)\n",
    "print(a**4)\n",
    "print(a**5)\n",
    "print(a**6)\n",
    "print(a**7)\n",
    "print(a**8)"
   ]
  },
  {
   "cell_type": "markdown",
   "id": "e95fcd49",
   "metadata": {},
   "source": [
    "# 5\n",
    "\n",
    "**Write a Python program that allows the user to enter any integer value, and displays the value of 2 raised to that power. Your program should function as shown below.**\n",
    "\n",
    "What power of two? 10\n",
    "\n",
    "Two to the power of 10 is 1024\n"
   ]
  },
  {
   "cell_type": "code",
   "execution_count": 3,
   "id": "45c99a17",
   "metadata": {},
   "outputs": [
    {
     "name": "stdout",
     "output_type": "stream",
     "text": [
      "What power of two? 10\n",
      "Two to the power of 10 is  1024\n"
     ]
    }
   ],
   "source": [
    "pow = int(input(\"What power of two? \"))\n",
    "print(\"Two to the power of 10 is \", 2**pow)"
   ]
  },
  {
   "cell_type": "markdown",
   "id": "a57cd584",
   "metadata": {},
   "source": [
    "# 6\n",
    "\n",
    "**Write a Python program that allows the user to enter any integer base and integer exponent, and displays the value of the base raised to that exponent. Your program should function as shown below.**\n",
    "\n",
    "What base? 10\n",
    "\n",
    "What power? 4\n",
    "\n",
    "10 to the power of 4 is 10000\n"
   ]
  },
  {
   "cell_type": "code",
   "execution_count": 4,
   "id": "e4a56f64",
   "metadata": {},
   "outputs": [
    {
     "name": "stdout",
     "output_type": "stream",
     "text": [
      "What base? 10\n",
      "What power? 4\n",
      "10 to the power of 4 is 10000\n"
     ]
    }
   ],
   "source": [
    "base = int(input(\"What base? \"))\n",
    "pow = int(input(\"What power? \"))\n",
    "print(base, \"to the power of\", pow , \"is\", base**pow)"
   ]
  },
  {
   "cell_type": "markdown",
   "id": "c6e97cf7",
   "metadata": {},
   "source": [
    "# 7\n",
    "\n",
    "**Write a Python program that allows the user to enter a four-digit binary number and displays its value in base 10. Each binary digit should be entered one per line, starting with the leftmost digit, as shown below.**\n",
    "\n",
    "Enter leftmost digit: 1\n",
    "\n",
    "Enter the next digit: 0\n",
    "\n",
    "Enter the next digit: 0\n",
    "\n",
    "Enter the next digit: 1\n",
    "\n",
    "The value is 9\n"
   ]
  },
  {
   "cell_type": "code",
   "execution_count": 5,
   "id": "f5b2b63f",
   "metadata": {},
   "outputs": [
    {
     "name": "stdout",
     "output_type": "stream",
     "text": [
      "Enter the left most digit: 1\n",
      "Enter the next digit: 0\n",
      "Enter the next digit: 0\n",
      "Enter the next digit: 1\n",
      "The value is 9\n"
     ]
    }
   ],
   "source": [
    "d1 = int(input(\"Enter the left most digit: \"))\n",
    "d2 = int(input(\"Enter the next digit: \"))\n",
    "d3 = int(input(\"Enter the next digit: \"))\n",
    "d4 = int(input(\"Enter the next digit: \"))\n",
    "result = (d1*(2**3))+(d2*(2**2))+(d3*(2**1))+(d4*(2**0))\n",
    "print(\"The value is\", result)"
   ]
  },
  {
   "cell_type": "markdown",
   "id": "7782d380",
   "metadata": {},
   "source": [
    "# 8\n",
    "\n",
    "**Write a simple Python program that prompts the user for a certain number of cities for the Traveling Salesman problem, and displays the total number of possible routes that can be taken. Your program should function as shown below.**\n",
    "\n",
    "How many cities? 10\n",
    "\n",
    "For 10 cities, there are 3628800 possible route\n"
   ]
  },
  {
   "cell_type": "code",
   "execution_count": 6,
   "id": "99319ff5",
   "metadata": {},
   "outputs": [
    {
     "name": "stdout",
     "output_type": "stream",
     "text": [
      "How many cities? 10\n",
      "For 10 cities, there are 3628800 possible routes\n"
     ]
    }
   ],
   "source": [
    "import math\n",
    "cities = int(input(\"How many cities? \"))\n",
    "fact = math.factorial(cities)\n",
    "print(\"For 10 cities, there are\", fact, \"possible routes\")"
   ]
  }
 ],
 "metadata": {
  "kernelspec": {
   "display_name": "Python 3",
   "language": "python",
   "name": "python3"
  },
  "language_info": {
   "codemirror_mode": {
    "name": "ipython",
    "version": 3
   },
   "file_extension": ".py",
   "mimetype": "text/x-python",
   "name": "python",
   "nbconvert_exporter": "python",
   "pygments_lexer": "ipython3",
   "version": "3.8.8"
  }
 },
 "nbformat": 4,
 "nbformat_minor": 5
}
